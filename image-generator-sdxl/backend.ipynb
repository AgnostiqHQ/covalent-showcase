{
  "cells": [
    {
      "cell_type": "markdown",
      "metadata": {},
      "source": [
        "# Image Generator Backend Deployment Notebook"
      ]
    },
    {
      "cell_type": "code",
      "execution_count": 1,
      "metadata": {},
      "outputs": [],
      "source": [
        "import base64\n",
        "import io\n",
        "import os\n",
        "\n",
        "import covalent_cloud as cc\n",
        "import torch\n",
        "from covalent_cloud.cloud_executor import GPU_TYPE\n",
        "from diffusers import AutoPipelineForText2Image\n",
        "\n",
        "cc.save_api_key(os.environ[\"CC_API_KEY\"])"
      ]
    },
    {
      "cell_type": "code",
      "execution_count": 2,
      "metadata": {},
      "outputs": [
        {
          "name": "stdout",
          "output_type": "stream",
          "text": [
            "Environment Already Exists.\n"
          ]
        }
      ],
      "source": [
        "ENV_NAME = \"sdxl-demo-backend\"\n",
        "\n",
        "cc.create_env(\n",
        "    name=ENV_NAME,\n",
        "    pip=[\n",
        "        \"accelerate==0.29.1\",\n",
        "        \"diffusers==0.27.2\",\n",
        "        \"sentencepiece==0.2.0\",\n",
        "        \"torch==2.2.2\",\n",
        "        \"transformers==4.39.3\",\n",
        "    ],\n",
        "    wait=True,\n",
        ")"
      ]
    },
    {
      "cell_type": "code",
      "execution_count": 3,
      "metadata": {},
      "outputs": [],
      "source": [
        "gpu_executor = cc.CloudExecutor(\n",
        "    env=ENV_NAME,\n",
        "    num_cpus=25,\n",
        "    memory=\"56 GB\",\n",
        "    time_limit=\"15 days\",\n",
        "    num_gpus=1,\n",
        "    gpu_type=GPU_TYPE.L40,\n",
        ")\n",
        "\n",
        "@cc.service(executor=gpu_executor, name=\"SDXL Image Generator Service\")\n",
        "def text_to_image_service(model_path: str):\n",
        "    \"\"\"Creates an SDXL Image Generator service\"\"\"\n",
        "    pipeline = AutoPipelineForText2Image.from_pretrained(\n",
        "        model_path,\n",
        "        torch_dtype=torch.float16,\n",
        "        variant=\"fp16\",\n",
        "    ).to(\"cuda\")\n",
        "\n",
        "    return {\"pipeline\": pipeline}"
      ]
    },
    {
      "cell_type": "code",
      "execution_count": 4,
      "metadata": {},
      "outputs": [],
      "source": [
        "@text_to_image_service.endpoint(route=\"/text-to-image\")\n",
        "def generate_image(pipeline, prompt: str, num_inference_steps: int = 1):\n",
        "    \"\"\"Generate an image based on a prompt\"\"\"\n",
        "    image = pipeline(prompt=prompt, num_inference_steps=num_inference_steps, guidance_scale=0.0).images[0]\n",
        "\n",
        "    bytes_io = io.BytesIO()\n",
        "    image.save(bytes_io, format='PNG')\n",
        "    image_as_str = base64.b64encode(bytes_io.getvalue()).decode('utf-8')\n",
        "    return image_as_str"
      ]
    },
    {
      "cell_type": "markdown",
      "metadata": {},
      "source": [
        "#### When ready, copy backend base URL (address) into streamlit app"
      ]
    },
    {
      "cell_type": "code",
      "execution_count": 5,
      "metadata": {},
      "outputs": [
        {
          "data": {
            "text/html": [
              "<pre style=\"white-space:pre;overflow-x:auto;line-height:normal;font-family:Menlo,'DejaVu Sans Mono',consolas,'Courier New',monospace\"></pre>\n"
            ],
            "text/plain": []
          },
          "metadata": {},
          "output_type": "display_data"
        },
        {
          "name": "stdout",
          "output_type": "stream",
          "text": [
            "╭──────────────────────── Deployment Information ────────────────────────╮\n",
            "│  Name          SDXL Image Generator Service                            │\n",
            "│  Description   Creates an SDXL Image Generator service                 │\n",
            "│  Function ID   66563437f7d37dbf2a468c9f                                │\n",
            "│  Address       https://fn.prod.covalent.xyz/166563437f7d37dbf2a468c9f  │\n",
            "│  Status        ACTIVE                                                  │\n",
            "│  Tags                                                                  │\n",
            "│  Auth Enabled  Yes                                                     │\n",
            "╰────────────────────────────────────────────────────────────────────────╯\n",
            "╭────────────────────────────────────────────────────╮\n",
            "│ \u001b[3m               POST /text-to-image                \u001b[0m │\n",
            "│  Streaming    No                                   │\n",
            "│  Description  Generate an image based on a prompt  │\n",
            "╰────────────────────────────────────────────────────╯\n",
            "Authorization token: <redacted-authorization-token>\n",
            "\n",
            "https://fn.prod.covalent.xyz/166563437f7d37dbf2a468c9f\n"
          ]
        }
      ],
      "source": [
        "info = cc.deploy(text_to_image_service)(model_path=\"stabilityai/sdxl-turbo\")\n",
        "info = cc.get_deployment(info.function_id, wait=True)\n",
        "print(info)\n",
        "print(info.address)"
      ]
    },
    {
      "cell_type": "markdown",
      "metadata": {},
      "source": [
        "#### Danger Zone!"
      ]
    },
    {
      "cell_type": "code",
      "execution_count": null,
      "metadata": {},
      "outputs": [],
      "source": [
        "# info.teardown()"
      ]
    }
  ],
  "metadata": {
    "kernelspec": {
      "display_name": "Python 3 (ipykernel)",
      "language": "python",
      "name": "python3"
    },
    "language_info": {
      "codemirror_mode": {
        "name": "ipython",
        "version": 3
      },
      "file_extension": ".py",
      "mimetype": "text/x-python",
      "name": "python",
      "nbconvert_exporter": "python",
      "pygments_lexer": "ipython3",
      "version": "3.10.14"
    }
  },
  "nbformat": 4,
  "nbformat_minor": 2
}
